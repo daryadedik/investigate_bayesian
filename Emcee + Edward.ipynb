{
 "cells": [
  {
   "cell_type": "code",
   "execution_count": 11,
   "metadata": {},
   "outputs": [
    {
     "name": "stdout",
     "output_type": "stream",
     "text": [
      "2.2.1\n"
     ]
    }
   ],
   "source": [
    "import numpy as np\n",
    "import pandas as pd\n",
    "import matplotlib.pyplot as plt\n",
    "from scipy.stats import cauchy, gamma\n",
    "\n",
    "import emcee\n",
    "print(emcee.__version__)\n",
    "\n",
    "import edward as ed\n",
    "import numpy as np\n",
    "import tensorflow as tf\n",
    "from edward.models import Deterministic, Normal, Gamma, StudentT, Empirical, NormalWithSoftplusScale, Exponential\n",
    "\n",
    "import itertools\n",
    "import time"
   ]
  },
  {
   "cell_type": "markdown",
   "metadata": {},
   "source": [
    "### Data"
   ]
  },
  {
   "cell_type": "markdown",
   "metadata": {},
   "source": [
    "We generate 1 million samples from the Gaussian distribution with the model parameters:\n",
    "\n",
    "1. <b>delta</b> ~ cauchy(0, 1)\n",
    "2. <b>mu</b> ~ cauchy(0, 1)\n",
    "3. <b>sigma</b> ~ gamma(2, 2)\n",
    "4. <b>alpha</b> = delta * sigma\n",
    "5. <b>x</b> ~ normal(mu+alpha, sigma)\n",
    "6. <b>y</b> ~ normal(mu, sigma)"
   ]
  },
  {
   "cell_type": "code",
   "execution_count": 12,
   "metadata": {
    "collapsed": true
   },
   "outputs": [],
   "source": [
    "num_points = 1000000 # [100, 10000, 1000000]"
   ]
  },
  {
   "cell_type": "code",
   "execution_count": 13,
   "metadata": {
    "collapsed": true
   },
   "outputs": [],
   "source": [
    "def generate_data_normal(N):\n",
    "    delta = 2.0\n",
    "    mu = 0.0\n",
    "    sigma = 1.0\n",
    "    alpha = delta * sigma\n",
    "    \n",
    "    xdata = np.random.normal(mu+alpha, sigma, N)\n",
    "    ydata = np.random.normal(mu, sigma, N)\n",
    "    return (xdata, ydata)"
   ]
  },
  {
   "cell_type": "code",
   "execution_count": 14,
   "metadata": {
    "collapsed": true
   },
   "outputs": [],
   "source": [
    "def plot_points(x, y):\n",
    "    plt.figure(figsize=(10,5))\n",
    "    plt.plot(x, y, 'ok', markersize=3)\n",
    "    plt.grid()\n",
    "    plt.show()"
   ]
  },
  {
   "cell_type": "code",
   "execution_count": 15,
   "metadata": {
    "collapsed": true
   },
   "outputs": [],
   "source": [
    "def plot_data_hist(x, y):\n",
    "    plt.figure(figsize=(10,5))\n",
    "    plt.hist(x, alpha=0.5, bins=500, label=\"X data\")\n",
    "    plt.hist(y, alpha=0.5, bins=500, label=\"Y data\")\n",
    "    plt.legend(loc='lower right', fontsize=11)\n",
    "    plt.show()\n",
    "    \n",
    "def plot_trace_hist(trace):\n",
    "    trace = trace[trace < 1]\n",
    "    plt.hist(trace, alpha=0.5, bins=500, label=\"delta\")\n",
    "    plt.legend(loc='lower right', fontsize=11)\n",
    "    plt.show()"
   ]
  },
  {
   "cell_type": "code",
   "execution_count": 16,
   "metadata": {},
   "outputs": [
    {
     "data": {
      "image/png": "[encoded data removed]",
      "text/plain": [
       "<matplotlib.figure.Figure at 0x12284fb70>"
      ]
     },
     "metadata": {},
     "output_type": "display_data"
    }
   ],
   "source": [
    "np.random.seed(42)\n",
    "xdata, ydata = generate_data_normal(num_points)\n",
    "plot_data_hist(xdata, ydata)"
   ]
  },
  {
   "cell_type": "markdown",
   "metadata": {},
   "source": [
    "Further we will investigate sampling package [Emcee](https://github.com/dfm/emcee) and variational inference using [Edward](https://github.com/blei-lab/edward) package."
   ]
  },
  {
   "cell_type": "markdown",
   "metadata": {},
   "source": [
    "# Emcee"
   ]
  },
  {
   "cell_type": "code",
   "execution_count": 17,
   "metadata": {
    "collapsed": true
   },
   "outputs": [],
   "source": [
    "_xdata = np.array(xdata, dtype=float)\n",
    "_ydata = np.array(ydata, dtype=float)\n",
    "\n",
    "assert(all(np.isnan(_xdata)) == False)\n",
    "assert(all(np.isnan(_ydata)) == False)"
   ]
  },
  {
   "cell_type": "code",
   "execution_count": 18,
   "metadata": {
    "collapsed": true
   },
   "outputs": [],
   "source": [
    "def lnprior(theta):\n",
    "    delta, mu, sigma = theta\n",
    "    \n",
    "    prob_delta = cauchy.pdf(delta, 0, 1)\n",
    "    prob_mu = cauchy.pdf(mu, 0, 1)\n",
    "    prob_sigma = gamma.pdf(sigma, 2, 2)\n",
    "    \n",
    "    if prob_sigma <= 0:\n",
    "        return -np.inf\n",
    "    else:\n",
    "        return np.log(prob_delta) + np.log(prob_mu) + np.log(prob_sigma)\n",
    "    \n",
    "    \n",
    "def lnlike(theta, x, y):\n",
    "    delta, mu, sigma = theta\n",
    "    \n",
    "    log_coeff = np.log( 1 / np.sqrt(2 * np.pi * sigma**2) )\n",
    "    denom = 2 * (sigma ** 2)\n",
    "    x_g = ( (x - (mu + delta/sigma))**2 ) / denom\n",
    "    y_g = ( (y - mu)**2 ) / denom\n",
    "                \n",
    "    return (2 * log_coeff) - x_g - y_g \n",
    "\n",
    "def lnposterior(theta, x, y):\n",
    "    return lnprior(theta) + lnlike(theta, x, y)"
   ]
  },
  {
   "cell_type": "code",
   "execution_count": 19,
   "metadata": {
    "collapsed": true
   },
   "outputs": [],
   "source": [
    "ndim = 3  # number of parameters in the model\n",
    "nwalkers = 100  # number of MCMC walkers\n",
    "nburn = 1000  # \"burn-in\" period to let chains stabilize\n",
    "nsteps = 2000  # number of MCMC steps to take\n",
    "\n",
    "# set theta near the maximum likelihood, with \n",
    "starting_guesses = np.random.random((nwalkers, ndim))"
   ]
  },
  {
   "cell_type": "code",
   "execution_count": 20,
   "metadata": {},
   "outputs": [
    {
     "name": "stderr",
     "output_type": "stream",
     "text": [
      "/Users/ddedik/anaconda2/envs/py3k/lib/python3.6/site-packages/emcee/ensemble.py:335: RuntimeWarning: invalid value encountered in subtract\n",
      "  lnpdiff = (self.dim - 1.) * np.log(zz) + newlnprob - lnprob0\n",
      "/Users/ddedik/anaconda2/envs/py3k/lib/python3.6/site-packages/emcee/ensemble.py:336: RuntimeWarning: invalid value encountered in greater\n",
      "  accept = (lnpdiff > np.log(self._random.rand(len(lnpdiff))))\n"
     ]
    }
   ],
   "source": [
    "start_time = time.time()\n",
    "\n",
    "sampler = emcee.EnsembleSampler(nwalkers, ndim, lnposterior, args=[xdata, ydata])\n",
    "sampler.run_mcmc(starting_guesses, nsteps)\n",
    "\n",
    "end_time = time.time()"
   ]
  },
  {
   "cell_type": "code",
   "execution_count": 21,
   "metadata": {},
   "outputs": [
    {
     "data": {
      "image/png": "[encoded data removed]",
      "text/plain": [
       "<matplotlib.figure.Figure at 0x122803b00>"
      ]
     },
     "metadata": {},
     "output_type": "display_data"
    },
    {
     "name": "stdout",
     "output_type": "stream",
     "text": [
      "--- emcee sampling vi 12907.430394887924 seconds ---\n"
     ]
    }
   ],
   "source": [
    "emcee_trace = sampler.chain[:, nburn:, :].reshape(-1, ndim).T\n",
    "plt.hist(emcee_trace[0], alpha=0.5, bins=100, label=\"delta\")\n",
    "plt.show()\n",
    "print(\"--- emcee sampling vi %s seconds ---\" % (end_time - start_time))"
   ]
  },
  {
   "cell_type": "markdown",
   "metadata": {},
   "source": [
    "# Edward"
   ]
  },
  {
   "cell_type": "markdown",
   "metadata": {},
   "source": [
    "### Data"
   ]
  },
  {
   "cell_type": "code",
   "execution_count": 2,
   "metadata": {
    "collapsed": true
   },
   "outputs": [],
   "source": [
    "sess = ed.get_session()"
   ]
  },
  {
   "cell_type": "code",
   "execution_count": 4,
   "metadata": {
    "collapsed": true
   },
   "outputs": [],
   "source": [
    "# FORWARD MODEL, Prior\n",
    "mu = StudentT(1.0,[0.0],[1.0])\n",
    "delta = StudentT(1.0,[0.0],[1.0])\n",
    "sigma = Gamma([2.0],[2.0])\n",
    "alpha = delta * sigma"
   ]
  },
  {
   "cell_type": "code",
   "execution_count": 18,
   "metadata": {
    "collapsed": true
   },
   "outputs": [],
   "source": [
    "x = Normal(tf.tile(mu+alpha,[num_points]), tf.tile(sigma,[num_points]))\n",
    "y = Normal(tf.tile(mu,[num_points]), tf.tile(sigma,[num_points]))"
   ]
  },
  {
   "cell_type": "code",
   "execution_count": 19,
   "metadata": {
    "collapsed": true
   },
   "outputs": [],
   "source": [
    "# BACKWARD MODEL\n",
    "q_mu = NormalWithSoftplusScale(loc=tf.Variable([0.0]), scale=tf.Variable([1.0]))\n",
    "q_sigma = Gamma(tf.nn.softplus(tf.Variable([1.0])), tf.nn.softplus(tf.Variable([1.0])))\n",
    "q_delta = NormalWithSoftplusScale(loc=tf.Variable([0.0]), scale=tf.Variable([1.0]))"
   ]
  },
  {
   "cell_type": "code",
   "execution_count": 20,
   "metadata": {
    "collapsed": true
   },
   "outputs": [],
   "source": [
    "# INFERENCE\n",
    "inference = ed.KLqp({delta: q_delta, mu: q_mu, sigma: q_sigma}, data={x: xdata, y: ydata})"
   ]
  },
  {
   "cell_type": "code",
   "execution_count": 21,
   "metadata": {},
   "outputs": [
    {
     "name": "stdout",
     "output_type": "stream",
     "text": [
      "2000/2000 [100%] ██████████████████████████████ Elapsed: 28s | Loss: 68147.227\n",
      "--- Edward vi 28.207113027572632 seconds ---\n"
     ]
    }
   ],
   "source": [
    "start_time = time.time()\n",
    "inference.run(n_iter=10000, n_print=200, n_samples=50)\n",
    "end_time = time.time()\n",
    "print(\"--- Edward vi %s seconds ---\" % (end_time - start_time))"
   ]
  },
  {
   "cell_type": "code",
   "execution_count": null,
   "metadata": {
    "collapsed": true
   },
   "outputs": [],
   "source": [
    "T = 10000\n",
    "delta_sample = sess.run(delta.sample(sample_shape=T))\n",
    "q_delta_sample = sess.run(q_delta.sample(sample_shape=T))"
   ]
  },
  {
   "cell_type": "code",
   "execution_count": null,
   "metadata": {
    "collapsed": true
   },
   "outputs": [],
   "source": [
    "plt.subplot(211)\n",
    "plt.hist(delta_sample, bins=100, label='delta samples')\n",
    "plt.legend(loc='upper right', fontsize=16)\n",
    "plt.grid(True)\n",
    "plt.xlim(-1000, 1000)\n",
    "\n",
    "plt.subplot(212)\n",
    "plt.hist(q_delta_sample, bins=100, label='q_delta samples')\n",
    "plt.legend(loc='upper right', fontsize=16)\n",
    "plt.grid(True)\n",
    "plt.show()"
   ]
  },
  {
   "cell_type": "code",
   "execution_count": null,
   "metadata": {
    "collapsed": true
   },
   "outputs": [],
   "source": [
    "print(('delta mu: {}, delta scale: {}').format(q_delta.parameters['loc'].eval(), q_delta.parameters['scale'].eval()))"
   ]
  },
  {
   "cell_type": "code",
   "execution_count": null,
   "metadata": {
    "collapsed": true
   },
   "outputs": [],
   "source": []
  },
  {
   "cell_type": "code",
   "execution_count": null,
   "metadata": {
    "collapsed": true
   },
   "outputs": [],
   "source": [
    "# Alternative set-up"
   ]
  },
  {
   "cell_type": "code",
   "execution_count": null,
   "metadata": {
    "collapsed": true
   },
   "outputs": [],
   "source": [
    "# FORWARD MODEL\n",
    "mu = StudentT(1.0,[0.5],[1.0])\n",
    "delta = StudentT(1.0,[0.5],[1.0])\n",
    "sigma = Gamma([2.0],[2.0])\n",
    "alpha = delta * sigma"
   ]
  },
  {
   "cell_type": "code",
   "execution_count": null,
   "metadata": {
    "collapsed": true
   },
   "outputs": [],
   "source": [
    "x = Normal(tf.tile(mu + alpha,[num_points]), tf.tile(sigma,[num_points]))\n",
    "y = Normal(tf.tile(mu,[num_points]), tf.tile(sigma,[num_points]))"
   ]
  },
  {
   "cell_type": "code",
   "execution_count": null,
   "metadata": {
    "collapsed": true
   },
   "outputs": [],
   "source": [
    "# BACKWARD MODEL\n",
    "np.random.seed(42)\n",
    "q_delta_loc = tf.Variable(tf.random_normal([]))\n",
    "q_delta_scale = tf.nn.softplus(tf.Variable(tf.random_normal([])))\n",
    "\n",
    "q_sigma_loc = tf.Variable(tf.random_normal([]))\n",
    "q_sigma_scale = tf.nn.softplus(tf.Variable(tf.random_normal([])))\n",
    "\n",
    "q_mu_loc = tf.Variable(tf.random_normal([]))\n",
    "q_mu_scale = tf.nn.softplus(tf.Variable(tf.random_normal([])))\n",
    "\n",
    "q_mu = NormalWithSoftplusScale(q_mu_loc, q_mu_scale, sample_shape=1)\n",
    "q_sigma = Gamma(q_sigma_loc, q_sigma_scale, sample_shape=1)\n",
    "q_delta = NormalWithSoftplusScale(q_delta_loc, q_delta_scale, sample_shape=1)"
   ]
  },
  {
   "cell_type": "code",
   "execution_count": null,
   "metadata": {
    "collapsed": true
   },
   "outputs": [],
   "source": [
    "# INFERENCE\n",
    "inference = ed.KLqp({delta: q_delta, mu: q_mu, sigma: q_sigma}, data={x: xdata, y: ydata})\n",
    "inference.run(n_iter=10000, n_print=200, n_samples=10)"
   ]
  },
  {
   "cell_type": "code",
   "execution_count": null,
   "metadata": {
    "collapsed": true
   },
   "outputs": [],
   "source": [
    "print(('delta mu: {}, delta scale: {}').format(q_delta.parameters['loc'].eval(), q_delta.parameters['scale'].eval()))"
   ]
  },
  {
   "cell_type": "code",
   "execution_count": null,
   "metadata": {
    "collapsed": true
   },
   "outputs": [],
   "source": [
    "T = 10000\n",
    "delta_sample = sess.run(delta.sample(sample_shape=T))\n",
    "q_delta_sample = sess.run(q_delta.sample(sample_shape=T))"
   ]
  },
  {
   "cell_type": "code",
   "execution_count": null,
   "metadata": {
    "collapsed": true
   },
   "outputs": [],
   "source": [
    "plt.subplot(211)\n",
    "plt.hist(delta_sample, bins=100, label='delta samples')\n",
    "plt.legend(loc='upper right', fontsize=16)\n",
    "plt.xlim(-1000, 1000)\n",
    "\n",
    "plt.subplot(212)\n",
    "plt.hist(q_delta_sample, bins=100, label='q_delta samples')\n",
    "plt.legend(loc='upper right', fontsize=16)\n",
    "plt.show()"
   ]
  }
 ],
 "metadata": {
  "kernelspec": {
   "display_name": "Python 3",
   "language": "python",
   "name": "python3"
  },
  "language_info": {
   "codemirror_mode": {
    "name": "ipython",
    "version": 3
   },
   "file_extension": ".py",
   "mimetype": "text/x-python",
   "name": "python",
   "nbconvert_exporter": "python",
   "pygments_lexer": "ipython3",
   "version": "3.6.1"
  }
 },
 "nbformat": 4,
 "nbformat_minor": 2
}
