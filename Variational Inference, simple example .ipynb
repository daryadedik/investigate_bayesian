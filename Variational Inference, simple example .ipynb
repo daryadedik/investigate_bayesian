{
 "cells": [
  {
   "cell_type": "code",
   "execution_count": 1,
   "metadata": {},
   "outputs": [
    {
     "name": "stdout",
     "output_type": "stream",
     "text": [
      "2.2.1\n"
     ]
    }
   ],
   "source": [
    "import numpy as np\n",
    "import pandas as pd\n",
    "import matplotlib.pyplot as plt\n",
    "from scipy.stats import cauchy, gamma\n",
    "\n",
    "import emcee\n",
    "print(emcee.__version__)\n",
    "\n",
    "import edward as ed\n",
    "import numpy as np\n",
    "import tensorflow as tf\n",
    "from tensorflow.contrib.distributions.python.ops import bijectors as bijector\n",
    "from edward.models import Deterministic, Normal, Gamma, StudentT, Exponential, NormalWithSoftplusScale\n",
    "\n",
    "import itertools\n",
    "\n",
    "ds = tf.contrib.distributions"
   ]
  },
  {
   "cell_type": "code",
   "execution_count": 2,
   "metadata": {},
   "outputs": [],
   "source": [
    "ed.set_seed(42)\n",
    "sess = ed.get_session()"
   ]
  },
  {
   "cell_type": "code",
   "execution_count": 3,
   "metadata": {
    "collapsed": true
   },
   "outputs": [],
   "source": [
    "num_points = 1000 # [100, 10000, 1000000]"
   ]
  },
  {
   "cell_type": "code",
   "execution_count": 4,
   "metadata": {
    "collapsed": true
   },
   "outputs": [],
   "source": [
    "mu_true = 5.0\n",
    "sigma_true = 1.0"
   ]
  },
  {
   "cell_type": "code",
   "execution_count": 5,
   "metadata": {},
   "outputs": [],
   "source": [
    "def build_dataset(N):\n",
    "    #mu_latent = Normal([mu_mu_true],[mu_sigma_true])\n",
    "    #sigma_latent = Gamma([sigma_c_true],[sigma_rate_true])\n",
    "    \n",
    "    x = Normal(loc=mu_true, scale=sigma_true, sample_shape=N)\n",
    "    #x = Normal(loc=mu_latent, scale=sigma_latent, sample_shape=N)\n",
    "    #y = Normal(loc=mu, scale=sigma, sample_shape=N)\n",
    "    \n",
    "    return sess.run(x)"
   ]
  },
  {
   "cell_type": "code",
   "execution_count": 6,
   "metadata": {},
   "outputs": [],
   "source": [
    "x_train = build_dataset(num_points)"
   ]
  },
  {
   "cell_type": "code",
   "execution_count": 7,
   "metadata": {},
   "outputs": [
    {
     "data": {
      "image/png": "[encoded data removed]",
      "text/plain": [
       "<matplotlib.figure.Figure at 0x1260d4b38>"
      ]
     },
     "metadata": {},
     "output_type": "display_data"
    }
   ],
   "source": [
    "#print('mu: {}, sigma: {}'.format(mu_latent, sigma_latent))\n",
    "plt.hist(x_train, bins=100)\n",
    "plt.show()"
   ]
  },
  {
   "cell_type": "code",
   "execution_count": 8,
   "metadata": {
    "collapsed": true
   },
   "outputs": [],
   "source": [
    "N = x_train.shape[0]  # number of data points"
   ]
  },
  {
   "cell_type": "code",
   "execution_count": 24,
   "metadata": {},
   "outputs": [],
   "source": [
    "#p_mu = Normal(loc=tf.zeros(N), scale=tf.ones(N))\n",
    "\n",
    "p_mu = Normal([0.0],[1.0])\n",
    "\n",
    "# p_sigma = ds.TransformedDistribution(\n",
    "#   distribution=ds.Normal(loc=0., scale=1.),\n",
    "#   bijector=bijector.Affine(\n",
    "#     shift=-1.,\n",
    "#     scale_identity_multiplier=2.,\n",
    "#     event_ndims=0),\n",
    "#   name=\"NormalTransformedDistribution\")\n",
    "\n",
    "p_sigma = Gamma([1.0],[1.0])\n",
    "\n",
    "#p_sigma = Gamma(concentration=tf.ones(N), rate=tf.ones(N))\n",
    "#p_sigma = ds.TransformedDistribution(\n",
    "#  distribution=ds.Normal(loc=tf.zeros(N), scale=tf.ones(N)),\n",
    "#  bijector=bijector.Exp(),\n",
    "#  name=\"LogNormalTransformedDistribution\")"
   ]
  },
  {
   "cell_type": "code",
   "execution_count": 25,
   "metadata": {},
   "outputs": [],
   "source": [
    "x = Normal(tf.tile(p_mu,[N]), tf.tile(p_sigma,[N]))"
   ]
  },
  {
   "cell_type": "code",
   "execution_count": 26,
   "metadata": {},
   "outputs": [],
   "source": [
    "q_mu = NormalWithSoftplusScale(loc=tf.Variable([0.5]),\n",
    "            scale=tf.Variable([2.3]))\n",
    "\n",
    "q_sigma = Exponential(tf.nn.softplus(tf.Variable([1.0])))\n",
    "\n",
    "# q_sigma = ds.TransformedDistribution(\n",
    "#   distribution=ds.Normal(loc=0., scale=1.),\n",
    "#   bijector=bijector.Affine(\n",
    "#     shift=-1.,\n",
    "#     scale_identity_multiplier=2.,\n",
    "#     event_ndims=0),\n",
    "#   name=\"NormalTransformedDistribution\")\n",
    "\n",
    "#q_sigma = ds.TransformedDistribution(\n",
    "#              distribution=ds.Normal(loc=tf.Variable(tf.random_normal([N])), \n",
    "#                                     scale=tf.nn.softplus(tf.Variable(tf.random_normal([N])))),\n",
    "#              bijector=bijector.Exp(),\n",
    "#              name=\"LogNormalTransformedDistribution\")"
   ]
  },
  {
   "cell_type": "code",
   "execution_count": 28,
   "metadata": {},
   "outputs": [],
   "source": [
    "inference = ed.KLqp({p_mu: q_mu, p_sigma: q_sigma}, data={x: x_train})"
   ]
  },
  {
   "cell_type": "code",
   "execution_count": 29,
   "metadata": {},
   "outputs": [
    {
     "name": "stdout",
     "output_type": "stream",
     "text": [
      "2000/2000 [100%] ██████████████████████████████ Elapsed: 18s | Loss: 4456.857\n"
     ]
    }
   ],
   "source": [
    "inference.run(n_iter=2000, n_print=200, n_samples=10)"
   ]
  }
 ],
 "metadata": {
  "kernelspec": {
   "display_name": "Python 3",
   "language": "python",
   "name": "python3"
  },
  "language_info": {
   "codemirror_mode": {
    "name": "ipython",
    "version": 3
   },
   "file_extension": ".py",
   "mimetype": "text/x-python",
   "name": "python",
   "nbconvert_exporter": "python",
   "pygments_lexer": "ipython3",
   "version": "3.6.1"
  }
 },
 "nbformat": 4,
 "nbformat_minor": 2
}
